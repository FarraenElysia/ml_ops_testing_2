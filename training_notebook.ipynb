{
 "cells": [
  {
   "cell_type": "code",
   "execution_count": 2,
   "metadata": {},
   "outputs": [
    {
     "name": "stdout",
     "output_type": "stream",
     "text": [
      "Error occurred: S3 operation failed; code: BucketAlreadyOwnedByYou, message: Your previous request to create the named bucket succeeded and you already own it., resource: /ml-bucket, request_id: 182E12AAA3ED1AB0, host_id: dd9025bab4ad464b049177c95eb6ebf374d3b3fd1af9251148b658df7ac2e3e8, bucket_name: ml-bucket\n"
     ]
    }
   ],
   "source": [
    "from minio import Minio\n",
    "from minio.error import S3Error\n",
    "\n",
    "client = Minio(\n",
    "    \"localhost:9000\",  # Replace with your MinIO server address\n",
    "    access_key=\"ml_testing\",\n",
    "    secret_key=\"ml_testing\",\n",
    "    secure=False  # Set to True if using HTTPS\n",
    ")\n",
    "\n",
    "# Create a bucket\n",
    "bucket_name = \"ml-bucket\"\n",
    "try:\n",
    "    client.make_bucket(bucket_name)\n",
    "    print(f\"Bucket '{bucket_name}' created successfully.\")\n",
    "except S3Error as err:\n",
    "    print(f\"Error occurred: {err}\")"
   ]
  },
  {
   "cell_type": "code",
   "execution_count": 3,
   "metadata": {},
   "outputs": [],
   "source": [
    "import pandas as pd\n",
    "from catboost import CatBoostRegressor\n",
    "from sklearn.model_selection import train_test_split\n",
    "\n",
    "import matplotlib.pyplot as pltpoetry \n",
    "\n",
    "\n",
    "import random\n",
    "import sys\n",
    "from dvclive import Live\n",
    "from sklearn.metrics import r2_score"
   ]
  },
  {
   "cell_type": "code",
   "execution_count": 4,
   "metadata": {},
   "outputs": [],
   "source": [
    "df = pd.read_pickle('data/ev_pareto_on_gen.pkl')\n",
    "\n",
    "# Split the data into features and target\n",
    "X = df[[\"rotorAngle\",\"rotorDiameter\",\"Bias\"]]\n",
    "y = df[['LapTime','Durability','MotorPower','Torque']]\n",
    "\n",
    "# Split the data into training and testing sets\n",
    "X_train, X_test, y_train, y_test = train_test_split(X, y, test_size=0.2, random_state=42)\n"
   ]
  },
  {
   "cell_type": "code",
   "execution_count": 5,
   "metadata": {},
   "outputs": [
    {
     "name": "stdout",
     "output_type": "stream",
     "text": [
      "0:\tlearn: 17351.1215652\ttotal: 57.1ms\tremaining: 1m 54s\n",
      "200:\tlearn: 595.8662059\ttotal: 94.1ms\tremaining: 842ms\n",
      "400:\tlearn: 418.6189426\ttotal: 133ms\tremaining: 530ms\n",
      "600:\tlearn: 332.5569872\ttotal: 175ms\tremaining: 407ms\n",
      "800:\tlearn: 281.5669004\ttotal: 212ms\tremaining: 317ms\n",
      "1000:\tlearn: 244.0919726\ttotal: 252ms\tremaining: 251ms\n",
      "1200:\tlearn: 215.4948315\ttotal: 290ms\tremaining: 193ms\n",
      "1400:\tlearn: 191.5262942\ttotal: 326ms\tremaining: 139ms\n",
      "1600:\tlearn: 173.7236478\ttotal: 365ms\tremaining: 90.9ms\n",
      "1800:\tlearn: 156.0415848\ttotal: 402ms\tremaining: 44.4ms\n",
      "1999:\tlearn: 142.2351638\ttotal: 446ms\tremaining: 0us\n",
      "0:\tlearn: 17353.4592358\ttotal: 207us\tremaining: 414ms\n",
      "200:\tlearn: 462.4273572\ttotal: 46ms\tremaining: 411ms\n",
      "400:\tlearn: 333.6030237\ttotal: 97.6ms\tremaining: 389ms\n",
      "600:\tlearn: 259.1763461\ttotal: 163ms\tremaining: 380ms\n",
      "800:\tlearn: 211.8377376\ttotal: 224ms\tremaining: 336ms\n",
      "1000:\tlearn: 176.2015821\ttotal: 277ms\tremaining: 276ms\n",
      "1200:\tlearn: 150.5525691\ttotal: 324ms\tremaining: 216ms\n",
      "1400:\tlearn: 130.6157478\ttotal: 376ms\tremaining: 161ms\n",
      "1600:\tlearn: 115.1563346\ttotal: 428ms\tremaining: 107ms\n",
      "1800:\tlearn: 102.3328631\ttotal: 479ms\tremaining: 53ms\n",
      "1999:\tlearn: 92.8737170\ttotal: 527ms\tremaining: 0us\n",
      "0:\tlearn: 17301.1836605\ttotal: 219us\tremaining: 439ms\n",
      "200:\tlearn: 394.8153342\ttotal: 56.5ms\tremaining: 506ms\n",
      "400:\tlearn: 257.2615456\ttotal: 127ms\tremaining: 507ms\n",
      "600:\tlearn: 190.4140201\ttotal: 196ms\tremaining: 455ms\n",
      "800:\tlearn: 147.7838558\ttotal: 283ms\tremaining: 424ms\n",
      "1000:\tlearn: 120.5248854\ttotal: 350ms\tremaining: 349ms\n",
      "1200:\tlearn: 101.5573683\ttotal: 412ms\tremaining: 274ms\n",
      "1400:\tlearn: 87.7238651\ttotal: 473ms\tremaining: 202ms\n",
      "1600:\tlearn: 77.2066575\ttotal: 532ms\tremaining: 133ms\n",
      "1800:\tlearn: 68.4065881\ttotal: 590ms\tremaining: 65.2ms\n",
      "1999:\tlearn: 61.4719109\ttotal: 659ms\tremaining: 0us\n"
     ]
    },
    {
     "name": "stderr",
     "output_type": "stream",
     "text": [
      "WARNING: 'model' is empty.\n",
      "WARNING: 'model' is empty.\n",
      "WARNING: The following untracked files were present in the workspace before saving but will not be included in the experiment commit:\n",
      "\tcatboost_info/learn_error.tsv, catboost_info/time_left.tsv, catboost_info/catboost_training.json, catboost_info/learn/events.out.tfevents\n"
     ]
    }
   ],
   "source": [
    "\n",
    "with Live(save_dvc_exp=True) as live:\n",
    "    \n",
    "    live.log_param(\"learning_rate\", 0.05)\n",
    "    for depth in range(2,5):\n",
    "\n",
    "        live.log_metric(\"depth\", depth)\n",
    "\n",
    "        # Initialize the CatBoostRegressor\n",
    "        model = CatBoostRegressor(\n",
    "            iterations=2000, learning_rate=0.05, depth=depth, loss_function='MultiRMSE', verbose=200)\n",
    "\n",
    "        # Fit the model\n",
    "        model.fit(X_train, y_train)\n",
    "\n",
    "        y_train_pred = model.predict(X_test)\n",
    "        column_names = ['LapTime','Durability','MotorPower','Torque']\n",
    "        predictions = model.predict(X_test)\n",
    "        y_test_pred = pd.DataFrame(predictions,columns=column_names)\n",
    "\n",
    "        live.log_metric(\"test/r2\", r2_score(y_test['Torque'], y_test_pred['Torque']), plot=False)\n",
    "\n",
    "        live.next_step()"
   ]
  }
 ],
 "metadata": {
  "kernelspec": {
   "display_name": ".venv",
   "language": "python",
   "name": "python3"
  },
  "language_info": {
   "codemirror_mode": {
    "name": "ipython",
    "version": 3
   },
   "file_extension": ".py",
   "mimetype": "text/x-python",
   "name": "python",
   "nbconvert_exporter": "python",
   "pygments_lexer": "ipython3",
   "version": "3.12.5"
  }
 },
 "nbformat": 4,
 "nbformat_minor": 2
}
