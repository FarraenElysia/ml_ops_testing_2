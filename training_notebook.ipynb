{
 "cells": [
  {
   "cell_type": "code",
   "execution_count": 4,
   "metadata": {},
   "outputs": [
    {
     "name": "stdout",
     "output_type": "stream",
     "text": [
      "Bucket 'ml-bucket' created successfully.\n"
     ]
    }
   ],
   "source": [
    "from minio import Minio\n",
    "from minio.error import S3Error\n",
    "\n",
    "client = Minio(\n",
    "    \"localhost:9000\",  # Replace with your MinIO server address\n",
    "    access_key=\"ml_testing\",\n",
    "    secret_key=\"ml_testing\",\n",
    "    secure=False  # Set to True if using HTTPS\n",
    ")\n",
    "\n",
    "# Create a bucket\n",
    "bucket_name = \"ml-bucket\"\n",
    "try:\n",
    "    client.make_bucket(bucket_name)\n",
    "    print(f\"Bucket '{bucket_name}' created successfully.\")\n",
    "except S3Error as err:\n",
    "    print(f\"Error occurred: {err}\")"
   ]
  },
  {
   "cell_type": "code",
   "execution_count": 24,
   "metadata": {},
   "outputs": [],
   "source": [
    "import pandas as pd\n",
    "from catboost import CatBoostRegressor\n",
    "from sklearn.model_selection import train_test_split\n",
    "\n",
    "import matplotlib.pyplot as pltpoetry \n",
    "\n",
    "\n",
    "import random\n",
    "import sys\n",
    "from dvclive import Live\n",
    "from sklearn.metrics import r2_score"
   ]
  },
  {
   "cell_type": "code",
   "execution_count": 7,
   "metadata": {},
   "outputs": [],
   "source": [
    "df = pd.read_pickle('data/ev_pareto_on_gen.pkl')\n",
    "\n",
    "# Split the data into features and target\n",
    "X = df[[\"rotorAngle\",\"rotorDiameter\",\"Bias\"]]\n",
    "y = df[['LapTime','Durability','MotorPower','Torque']]\n",
    "\n",
    "# Split the data into training and testing sets\n",
    "X_train, X_test, y_train, y_test = train_test_split(X, y, test_size=0.2, random_state=42)\n"
   ]
  },
  {
   "cell_type": "code",
   "execution_count": null,
   "metadata": {},
   "outputs": [],
   "source": [
    "\n",
    "# Initialize the CatBoostRegressor\n",
    "model = CatBoostRegressor(\n",
    "    iterations=2000, learning_rate=0.05, depth=4, loss_function='MultiRMSE', verbose=200)\n",
    "\n",
    "# Fit the model\n",
    "model.fit(X_train, y_train)\n",
    "\n",
    "\n",
    "\n",
    "\n",
    "with Live(save_dvc_exp=True) as live:\n",
    "    live.log_param(\"learning_rate\", 0.05)\n",
    "    for depth in range(2,5):\n",
    "\n",
    "        live.log_param(\"depth\", depth)\n",
    "\n",
    "        # Initialize the CatBoostRegressor\n",
    "        model = CatBoostRegressor(\n",
    "            iterations=2000, learning_rate=0.05, depth=depth, loss_function='MultiRMSE', verbose=200)\n",
    "\n",
    "        # Fit the model\n",
    "        model.fit(X_train, y_train)\n",
    "\n",
    "        y_train_pred = model.predict(X_test)\n",
    "        column_names = ['LapTime','Durability','MotorPower','Torque']\n",
    "        predictions = model.predict(X_test)\n",
    "        y_test_pred = pd.DataFrame(predictions,columns=column_names)\n",
    "\n",
    "        live.log_metric(\"test/r2\", r2_score(y_test['Torque'], y_test_pred['Torque']), plot=False)\n",
    "\n",
    "        live.next_step()"
   ]
  }
 ],
 "metadata": {
  "kernelspec": {
   "display_name": ".venv",
   "language": "python",
   "name": "python3"
  },
  "language_info": {
   "codemirror_mode": {
    "name": "ipython",
    "version": 3
   },
   "file_extension": ".py",
   "mimetype": "text/x-python",
   "name": "python",
   "nbconvert_exporter": "python",
   "pygments_lexer": "ipython3",
   "version": "3.12.5"
  }
 },
 "nbformat": 4,
 "nbformat_minor": 2
}
