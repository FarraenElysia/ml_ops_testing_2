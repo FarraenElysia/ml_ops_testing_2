{
 "cells": [
  {
   "cell_type": "code",
   "execution_count": 2,
   "metadata": {},
   "outputs": [
    {
     "name": "stdout",
     "output_type": "stream",
     "text": [
      "Error occurred: S3 operation failed; code: BucketAlreadyOwnedByYou, message: Your previous request to create the named bucket succeeded and you already own it., resource: /ml-bucket, request_id: 182E12AAA3ED1AB0, host_id: dd9025bab4ad464b049177c95eb6ebf374d3b3fd1af9251148b658df7ac2e3e8, bucket_name: ml-bucket\n"
     ]
    }
   ],
   "source": [
    "from minio import Minio\n",
    "from minio.error import S3Error\n",
    "\n",
    "client = Minio(\n",
    "    \"localhost:9000\",  # Replace with your MinIO server address\n",
    "    access_key=\"ml_testing\",\n",
    "    secret_key=\"ml_testing\",\n",
    "    secure=False  # Set to True if using HTTPS\n",
    ")\n",
    "\n",
    "# Create a bucket\n",
    "bucket_name = \"ml-bucket\"\n",
    "try:\n",
    "    client.make_bucket(bucket_name)\n",
    "    print(f\"Bucket '{bucket_name}' created successfully.\")\n",
    "except S3Error as err:\n",
    "    print(f\"Error occurred: {err}\")"
   ]
  },
  {
   "cell_type": "code",
   "execution_count": 3,
   "metadata": {},
   "outputs": [],
   "source": [
    "import pandas as pd\n",
    "from catboost import CatBoostRegressor\n",
    "from sklearn.model_selection import train_test_split\n",
    "\n",
    "import matplotlib.pyplot as pltpoetry \n",
    "\n",
    "\n",
    "import random\n",
    "import sys\n",
    "from dvclive import Live\n",
    "from sklearn.metrics import r2_score"
   ]
  },
  {
   "cell_type": "code",
   "execution_count": 4,
   "metadata": {},
   "outputs": [],
   "source": [
    "df = pd.read_pickle('data/ev_pareto_on_gen.pkl')\n",
    "\n",
    "# Split the data into features and target\n",
    "X = df[[\"rotorAngle\",\"rotorDiameter\",\"Bias\"]]\n",
    "y = df[['LapTime','Durability','MotorPower','Torque']]\n",
    "\n",
    "# Split the data into training and testing sets\n",
    "X_train, X_test, y_train, y_test = train_test_split(X, y, test_size=0.2, random_state=42)\n"
   ]
  },
  {
   "cell_type": "code",
   "execution_count": 11,
   "metadata": {},
   "outputs": [
    {
     "name": "stdout",
     "output_type": "stream",
     "text": [
      "0:\tlearn: 17351.1215652\ttotal: 309us\tremaining: 619ms\n",
      "200:\tlearn: 595.8662059\ttotal: 36.3ms\tremaining: 325ms\n",
      "400:\tlearn: 418.6189426\ttotal: 72.2ms\tremaining: 288ms\n",
      "600:\tlearn: 332.5569872\ttotal: 110ms\tremaining: 256ms\n",
      "800:\tlearn: 281.5669004\ttotal: 147ms\tremaining: 220ms\n",
      "1000:\tlearn: 244.0919726\ttotal: 184ms\tremaining: 184ms\n",
      "1200:\tlearn: 215.4948315\ttotal: 222ms\tremaining: 147ms\n",
      "1400:\tlearn: 191.5262942\ttotal: 258ms\tremaining: 110ms\n",
      "1600:\tlearn: 173.7236478\ttotal: 294ms\tremaining: 73.4ms\n",
      "1800:\tlearn: 156.0415848\ttotal: 331ms\tremaining: 36.5ms\n",
      "1999:\tlearn: 142.2351638\ttotal: 367ms\tremaining: 0us\n",
      "0:\tlearn: 17353.4592358\ttotal: 278us\tremaining: 557ms\n",
      "200:\tlearn: 462.4273572\ttotal: 47ms\tremaining: 420ms\n",
      "400:\tlearn: 333.6030237\ttotal: 91.8ms\tremaining: 366ms\n",
      "600:\tlearn: 259.1763461\ttotal: 151ms\tremaining: 351ms\n",
      "800:\tlearn: 211.8377376\ttotal: 220ms\tremaining: 329ms\n",
      "1000:\tlearn: 176.2015821\ttotal: 267ms\tremaining: 266ms\n",
      "1200:\tlearn: 150.5525691\ttotal: 318ms\tremaining: 211ms\n",
      "1400:\tlearn: 130.6157478\ttotal: 367ms\tremaining: 157ms\n",
      "1600:\tlearn: 115.1563346\ttotal: 414ms\tremaining: 103ms\n",
      "1800:\tlearn: 102.3328631\ttotal: 462ms\tremaining: 51ms\n",
      "1999:\tlearn: 92.8737170\ttotal: 509ms\tremaining: 0us\n",
      "0:\tlearn: 17301.1836605\ttotal: 311us\tremaining: 624ms\n",
      "200:\tlearn: 394.8153342\ttotal: 56.3ms\tremaining: 504ms\n",
      "400:\tlearn: 257.2615456\ttotal: 127ms\tremaining: 504ms\n",
      "600:\tlearn: 190.4140201\ttotal: 188ms\tremaining: 438ms\n",
      "800:\tlearn: 147.7838558\ttotal: 255ms\tremaining: 381ms\n",
      "1000:\tlearn: 120.5248854\ttotal: 325ms\tremaining: 324ms\n",
      "1200:\tlearn: 101.5573683\ttotal: 386ms\tremaining: 257ms\n",
      "1400:\tlearn: 87.7238651\ttotal: 449ms\tremaining: 192ms\n",
      "1600:\tlearn: 77.2066575\ttotal: 508ms\tremaining: 127ms\n",
      "1800:\tlearn: 68.4065881\ttotal: 565ms\tremaining: 62.5ms\n",
      "1999:\tlearn: 61.4719109\ttotal: 625ms\tremaining: 0us\n"
     ]
    },
    {
     "name": "stderr",
     "output_type": "stream",
     "text": [
      "WARNING: 'model' is empty.\n",
      "WARNING: 'model' is empty.\n"
     ]
    }
   ],
   "source": [
    "\n",
    "with Live(save_dvc_exp=True) as live:\n",
    "    \n",
    "    for depth in range(2,5):\n",
    "\n",
    "        live.log_metric(\"depth\", depth)\n",
    "\n",
    "        # Initialize the CatBoostRegressor\n",
    "        model = CatBoostRegressor(\n",
    "            iterations=2000, learning_rate=0.05, depth=depth, loss_function='MultiRMSE', verbose=200)\n",
    "\n",
    "        # Fit the model\n",
    "        model.fit(X_train, y_train)\n",
    "\n",
    "        y_train_pred = model.predict(X_test)\n",
    "        column_names = ['LapTime','Durability','MotorPower','Torque']\n",
    "        predictions = model.predict(X_test)\n",
    "        y_test_pred = pd.DataFrame(predictions,columns=column_names)\n",
    "\n",
    "        live.log_metric(\"test/r2\", r2_score(y_test['Torque'], y_test_pred['Torque']), plot=False)\n",
    "\n",
    "        live.next_step()"
   ]
  }
 ],
 "metadata": {
  "kernelspec": {
   "display_name": ".venv",
   "language": "python",
   "name": "python3"
  },
  "language_info": {
   "codemirror_mode": {
    "name": "ipython",
    "version": 3
   },
   "file_extension": ".py",
   "mimetype": "text/x-python",
   "name": "python",
   "nbconvert_exporter": "python",
   "pygments_lexer": "ipython3",
   "version": "3.12.5"
  }
 },
 "nbformat": 4,
 "nbformat_minor": 2
}
